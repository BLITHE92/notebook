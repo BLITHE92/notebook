{
 "cells": [
  {
   "cell_type": "code",
   "execution_count": 1,
   "metadata": {},
   "outputs": [
    {
     "name": "stdout",
     "output_type": "stream",
     "text": [
      "Enter employee number 20\n",
      "Enter your name here faisal\n",
      "Enter your salary here 50000\n",
      "Enter your address here karachi\n",
      "Married?[True][False]:False\n",
      "Employee Form\n",
      "Emplyee number is: 20\n",
      "Employee name is: faisal\n",
      "Employee's salary is: 50000\n",
      "Employee address is: karachi\n",
      "Emplyee martial status is: True\n"
     ]
    }
   ],
   "source": [
    "\n",
    "employee_number = input(\"Enter employee number \")\n",
    "name=input(\"Enter your name here \")\n",
    "salary = int(input(\"Enter your salary here \"))\n",
    "address = input(\"Enter your address here \")\n",
    "martial_status = bool(input(\"Married?[True][False]:\"))\n",
    "\n",
    "print(\"Employee Form\")\n",
    "print(f\"Emplyee number is: {employee_number}\")\n",
    "print(f\"Employee name is: {name}\")\n",
    "print(f\"Employee's salary is: {salary}\")\n",
    "print(f\"Employee address is: {address}\")\n",
    "print(f\"Emplyee martial status is: {martial_status}\")"
   ]
  },
  {
   "cell_type": "code",
   "execution_count": null,
   "metadata": {},
   "outputs": [],
   "source": []
  }
 ],
 "metadata": {
  "kernelspec": {
   "display_name": "Python 3",
   "language": "python",
   "name": "python3"
  },
  "language_info": {
   "codemirror_mode": {
    "name": "ipython",
    "version": 3
   },
   "file_extension": ".py",
   "mimetype": "text/x-python",
   "name": "python",
   "nbconvert_exporter": "python",
   "pygments_lexer": "ipython3",
   "version": "3.7.1"
  }
 },
 "nbformat": 4,
 "nbformat_minor": 2
}
